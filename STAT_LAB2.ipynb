{
  "nbformat": 4,
  "nbformat_minor": 0,
  "metadata": {
    "colab": {
      "private_outputs": true,
      "provenance": [],
      "authorship_tag": "ABX9TyOHeM2kXz6goNSHAwXI8v0b",
      "include_colab_link": true
    },
    "kernelspec": {
      "name": "python3",
      "display_name": "Python 3"
    },
    "language_info": {
      "name": "python"
    }
  },
  "cells": [
    {
      "cell_type": "markdown",
      "metadata": {
        "id": "view-in-github",
        "colab_type": "text"
      },
      "source": [
        "<a href=\"https://colab.research.google.com/github/denverkim/PYTHON_STATISTICS/blob/main/STAT_LAB2.ipynb\" target=\"_parent\"><img src=\"https://colab.research.google.com/assets/colab-badge.svg\" alt=\"Open In Colab\"/></a>"
      ]
    },
    {
      "cell_type": "code",
      "execution_count": null,
      "metadata": {
        "id": "Hi-u-8I3O93R"
      },
      "outputs": [],
      "source": [
        "# 날씨파일을 데이터프레임으로 읽기\n",
        "import pandas as pd\n",
        "weather = pd.read_csv('/content/weather.txt')\n",
        "weather.head() # 처음 다섯줄"
      ]
    },
    {
      "cell_type": "code",
      "source": [
        "weather.tail() # 마지막 세줄 출력"
      ],
      "metadata": {
        "id": "Aikqa536UysO"
      },
      "execution_count": null,
      "outputs": []
    },
    {
      "cell_type": "code",
      "source": [
        "weather.dtypes #데이터타입"
      ],
      "metadata": {
        "id": "JvrGgaGDWekQ"
      },
      "execution_count": null,
      "outputs": []
    },
    {
      "cell_type": "code",
      "source": [
        "weather.index #인덱스"
      ],
      "metadata": {
        "id": "Xw38LondWjtZ"
      },
      "execution_count": null,
      "outputs": []
    },
    {
      "cell_type": "code",
      "source": [
        "weather.columns #컬럼들"
      ],
      "metadata": {
        "id": "Sc5nDIUnVk6Z"
      },
      "execution_count": null,
      "outputs": []
    },
    {
      "cell_type": "code",
      "source": [
        "weather.values #값들"
      ],
      "metadata": {
        "id": "D5rYGjCzYa74"
      },
      "execution_count": null,
      "outputs": []
    },
    {
      "cell_type": "code",
      "source": [
        "# 각 컬럼에 대한 통계요약\n",
        "weather.describe()"
      ],
      "metadata": {
        "id": "VgkdqZT7cWeQ"
      },
      "execution_count": null,
      "outputs": []
    },
    {
      "cell_type": "code",
      "source": [
        "# 한 컬럼을 정해 내림차순으로 정렬\n",
        "weather.sort_values('avg_precipitation', ascending=False)"
      ],
      "metadata": {
        "id": "-9mIBu0cdDZe"
      },
      "execution_count": null,
      "outputs": []
    },
    {
      "cell_type": "code",
      "source": [
        "# 강수량 1 초과인 데이터 필터링\n",
        "wg1 = weather[weather.avg_precipitation > 1]"
      ],
      "metadata": {
        "id": "1WtpCeh8gUEg"
      },
      "execution_count": null,
      "outputs": []
    },
    {
      "cell_type": "code",
      "source": [
        "# 6월, 7월, 8월 데이터만 필터링\n",
        "weather[weather.month.isin(['Jun', 'Jul', 'Aug'])]\n",
        "(weather.month=='Jun') | (weather.month=='Jul') | (weather.month=='Aug')"
      ],
      "metadata": {
        "id": "z68eiYGsdzq2"
      },
      "execution_count": null,
      "outputs": []
    },
    {
      "cell_type": "code",
      "source": [
        "# 옆으로 합칠 때\n",
        "pd.concat([weather.month, weather.month.isin(['Jun', 'Jul', 'Aug'])], axis=1)"
      ],
      "metadata": {
        "id": "1HcNPRc2i6c-"
      },
      "execution_count": null,
      "outputs": []
    },
    {
      "cell_type": "code",
      "source": [
        "# avg_low와 avg_high의 평균을 구하여 avg_day컬럼을 만드시오.\n",
        "weather['avg_day'] = (weather.avg_low + weather.avg_high)/2\n",
        "weather.head()"
      ],
      "metadata": {
        "id": "PfQ225TUkqcI"
      },
      "execution_count": null,
      "outputs": []
    },
    {
      "cell_type": "code",
      "source": [
        "# 컬럼이름 바꾸기 (avg_precipitation to avg_rain)\n",
        "weather.rename(columns={'avg_precipitation':'avg_rain'}, inplace=True)\n",
        "weather"
      ],
      "metadata": {
        "id": "KCc7J8OVmPar"
      },
      "execution_count": null,
      "outputs": []
    },
    {
      "cell_type": "code",
      "source": [
        "# Change columns’ name to 'month','av_hi','av_lo','rec_hi','rec_lo','av_rain‘, ‘av_day’\n",
        "weather.columns = ['month','av_hi','av_lo','rec_hi','rec_lo','av_rain', 'av_day']\n",
        "weather"
      ],
      "metadata": {
        "id": "Itwyj8o2mh3L"
      },
      "execution_count": null,
      "outputs": []
    },
    {
      "cell_type": "code",
      "source": [
        "# 데이터프레임을 csv파일로 저장하시오.\n",
        "weather.to_csv('weather.csv')"
      ],
      "metadata": {
        "id": "JeN4iA4jm-lX"
      },
      "execution_count": null,
      "outputs": []
    },
    {
      "cell_type": "code",
      "source": [
        "# chipotle 예제\n",
        "chipo = pd.read_excel('/content/chipotle.xlsx')\n",
        "chipo.head()\n",
        "chipo.tail()\n",
        "chipo.shape #(4623, 5)"
      ],
      "metadata": {
        "id": "ctBKW4T2rGED"
      },
      "execution_count": null,
      "outputs": []
    },
    {
      "cell_type": "code",
      "source": [
        "chipo.dtypes #데이터 타입"
      ],
      "metadata": {
        "id": "BPd9NJtfrxnS"
      },
      "execution_count": null,
      "outputs": []
    },
    {
      "cell_type": "code",
      "source": [
        "chipo.describe(include='all')"
      ],
      "metadata": {
        "id": "gPOsl7Q9r_4J"
      },
      "execution_count": null,
      "outputs": []
    },
    {
      "cell_type": "code",
      "source": [
        "# 결측치 체크\n",
        "chipo.isna().sum()"
      ],
      "metadata": {
        "id": "Z_rJeyQYsjS4"
      },
      "execution_count": null,
      "outputs": []
    },
    {
      "cell_type": "code",
      "source": [
        "# 가장 많이 주문된 아이템은?\n",
        "chipo.item_name.value_counts().index[0]"
      ],
      "metadata": {
        "id": "sUaygOYRtV5y"
      },
      "execution_count": null,
      "outputs": []
    },
    {
      "cell_type": "code",
      "source": [
        "# 가장 많이 주문된 아이템은 몇개나 주문됐나요?\n",
        "chipo.item_name.value_counts()[0]"
      ],
      "metadata": {
        "id": "M2TIJQrpuajJ"
      },
      "execution_count": null,
      "outputs": []
    },
    {
      "cell_type": "code",
      "source": [
        "# choice_description컬럼에서 가장 많이 주문된 아이템은?\n",
        "chipo.choice_description.value_counts().index[0][1:-1]"
      ],
      "metadata": {
        "id": "FpsfhaGKumcC"
      },
      "execution_count": null,
      "outputs": []
    },
    {
      "cell_type": "code",
      "source": [
        "# 얼마나 많은 다른 종류의 아이템이 팔렸나요?\n",
        "chipo.item_name.nunique()"
      ],
      "metadata": {
        "id": "DpL1CP7VvdZp"
      },
      "execution_count": null,
      "outputs": []
    },
    {
      "cell_type": "code",
      "source": [
        "chipo.dtypes"
      ],
      "metadata": {
        "id": "JRuFGqjT0Mc3"
      },
      "execution_count": null,
      "outputs": []
    },
    {
      "cell_type": "code",
      "source": [
        "# 시각화\n",
        "# Scatter plot\n",
        "import matplotlib.pyplot as plt\n",
        "plt.scatter(chipo.quantity, chipo.item_price)\n",
        "plt.xlabel('quantity')\n",
        "plt.ylabel('item price')\n",
        "plt.title('scatter plot')\n",
        "plt.show()"
      ],
      "metadata": {
        "id": "3leuuTRWz9X6"
      },
      "execution_count": null,
      "outputs": []
    },
    {
      "cell_type": "code",
      "source": [
        "# Histogram\n",
        "chipo.item_price.hist()\n",
        "plt.show()"
      ],
      "metadata": {
        "id": "FnNdQf7v0Z4o"
      },
      "execution_count": null,
      "outputs": []
    },
    {
      "cell_type": "code",
      "source": [
        "# Bar chart, horizontal bar chart\n",
        "tab = chipo.item_name.value_counts()\n",
        "plt.barh(tab.index, tab)\n",
        "plt.show()"
      ],
      "metadata": {
        "id": "BfOAaZq31Drd"
      },
      "execution_count": null,
      "outputs": []
    },
    {
      "cell_type": "code",
      "source": [
        "# Box plot\n",
        "chipo.boxplot()\n",
        "plt.show()"
      ],
      "metadata": {
        "id": "9a8FBKjQ1nvh"
      },
      "execution_count": null,
      "outputs": []
    },
    {
      "cell_type": "code",
      "source": [
        "# Heat map\n",
        "plt.pcolor(chipo.corr())\n",
        "plt.show()"
      ],
      "metadata": {
        "id": "pGQGiu1H1qgw"
      },
      "execution_count": null,
      "outputs": []
    }
  ]
}