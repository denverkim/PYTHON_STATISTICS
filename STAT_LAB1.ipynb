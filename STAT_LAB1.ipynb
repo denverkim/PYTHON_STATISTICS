{
  "nbformat": 4,
  "nbformat_minor": 0,
  "metadata": {
    "colab": {
      "private_outputs": true,
      "provenance": [],
      "authorship_tag": "ABX9TyPcZqucW6YcfVZApfTniTFA",
      "include_colab_link": true
    },
    "kernelspec": {
      "name": "python3",
      "display_name": "Python 3"
    },
    "language_info": {
      "name": "python"
    }
  },
  "cells": [
    {
      "cell_type": "markdown",
      "metadata": {
        "id": "view-in-github",
        "colab_type": "text"
      },
      "source": [
        "<a href=\"https://colab.research.google.com/github/denverkim/python_statistics/blob/main/STAT_LAB1.ipynb\" target=\"_parent\"><img src=\"https://colab.research.google.com/assets/colab-badge.svg\" alt=\"Open In Colab\"/></a>"
      ]
    },
    {
      "cell_type": "markdown",
      "source": [
        "## **파이썬 기본문법**"
      ],
      "metadata": {
        "id": "0DDPIkhdDhaa"
      }
    },
    {
      "cell_type": "code",
      "source": [
        "print(2+3*4)"
      ],
      "metadata": {
        "id": "5PPFNMWEDm2h"
      },
      "execution_count": null,
      "outputs": []
    },
    {
      "cell_type": "code",
      "source": [
        "name = \"Kim\"\n",
        "print('Hello, ', name, '!')\n",
        "print('Hello, '+name+'!')"
      ],
      "metadata": {
        "id": "eRFxgC4pETIz"
      },
      "execution_count": null,
      "outputs": []
    },
    {
      "cell_type": "code",
      "source": [
        "# 입력함수\n",
        "input('Enter your input: ')"
      ],
      "metadata": {
        "id": "SSWaEOwcC3bP"
      },
      "execution_count": null,
      "outputs": []
    },
    {
      "cell_type": "code",
      "source": [
        "# 출력함수\n",
        "print('python is really a great language')"
      ],
      "metadata": {
        "id": "cKco_POlDcVQ"
      },
      "execution_count": null,
      "outputs": []
    },
    {
      "cell_type": "code",
      "source": [
        "# 라이브러리 설치\n",
        "!pip install construct"
      ],
      "metadata": {
        "id": "rctXCiguCwG7"
      },
      "execution_count": null,
      "outputs": []
    },
    {
      "cell_type": "code",
      "source": [
        "# 라이브러리 임포트\n",
        "import construct\n",
        "print(construct.__version__) #버전체크"
      ],
      "metadata": {
        "id": "gYuy-g4rKlVm"
      },
      "execution_count": null,
      "outputs": []
    },
    {
      "cell_type": "code",
      "source": [
        "# 들여쓰기 연습\n",
        "if True:\n",
        "    print('True')\n",
        "else:\n",
        "    print('False')"
      ],
      "metadata": {
        "id": "aol_IwfmKUvD"
      },
      "execution_count": null,
      "outputs": []
    },
    {
      "cell_type": "code",
      "source": [
        "# 다음줄, 들여쓰기 연습\n",
        "print('안녕하세요\\n\\t하이')"
      ],
      "metadata": {
        "id": "d-h7r1CaNV3f"
      },
      "execution_count": null,
      "outputs": []
    },
    {
      "cell_type": "code",
      "source": [
        "# 연습문제\n",
        "print(\"Twinkle, twinkle, little star,\")\n",
        "print(\"\\tHow I wonder what you are!\")\n",
        "print(\"\\t\\tUp above the world so high,\")\n",
        "print(\"\\t\\tLike a diamond in the sky.\")\n",
        "print(\"Twinkle, twinkle, little star,\")\n",
        "print(\"\\tHow I wonder what you are!\")"
      ],
      "metadata": {
        "id": "5h8K7WReMqjl"
      },
      "execution_count": null,
      "outputs": []
    },
    {
      "cell_type": "code",
      "source": [
        "# 다른 방법\n",
        "print(\"Twinkle, twinkle, little star, \\\n",
        "\\n\\tHow I wonder what you are! \\\n",
        "\\n\\t\\tUp above the world so high, \\\n",
        "\\n\\t\\tLike a diamond in the sky. \\\n",
        "\\nTwinkle, twinkle, little star, \\\n",
        "\\n\\tHow I wonder what you are!\")"
      ],
      "metadata": {
        "id": "KaYT0UTKOd-g"
      },
      "execution_count": null,
      "outputs": []
    },
    {
      "cell_type": "code",
      "source": [
        "# 또 다른 방법\n",
        "print(\"\"\"Twinkle, twinkle, little star,\n",
        "\\tHow I wonder what you are!\n",
        "\\t\\tUp above the world so high,\n",
        "\\t\\tLike a diamond in the sky.\n",
        "Twinkle, twinkle, little star,\n",
        "\\tHow I wonder what you are!\"\"\")"
      ],
      "metadata": {
        "id": "Ro3OrkTQPBHR"
      },
      "execution_count": null,
      "outputs": []
    },
    {
      "cell_type": "code",
      "source": [
        "# raw string 출력시 r을 사용\n",
        "print(r\"escapes: \\n etc, \\033 etc\")"
      ],
      "metadata": {
        "id": "u5ZyQPzUSmLe"
      },
      "execution_count": null,
      "outputs": []
    },
    {
      "cell_type": "code",
      "source": [
        "# escape 코드 사용방\n",
        "print('\\'Hello\\'')"
      ],
      "metadata": {
        "id": "9xsTDTIjTSMC"
      },
      "execution_count": null,
      "outputs": []
    },
    {
      "cell_type": "code",
      "source": [
        "print('I eat 3 apples')\n",
        "a = 3\n",
        "print('I eat '+ str(a) + ' apples')\n",
        "print('I eat ', a, 'apples')"
      ],
      "metadata": {
        "id": "OUdcljd4Ui2H"
      },
      "execution_count": null,
      "outputs": []
    },
    {
      "cell_type": "code",
      "source": [
        "# 문자열 포맷\n",
        "print('I eat %d apples' % a)\n",
        "b = \"five\"\n",
        "print('I eat %s apples' % a)\n",
        "print(\"I ate %d apples. so I was sick for %s days.\" % (a, b))"
      ],
      "metadata": {
        "id": "ncLWBo7SVTv2"
      },
      "execution_count": null,
      "outputs": []
    },
    {
      "cell_type": "code",
      "source": [
        "# BMI 계산 프로그램\n",
        "print(\"BMI 계산 프로그램\")\n",
        "print(\"================\")\n",
        "weight = int(input('몸무게를 넣으세요 (kg): '))\n",
        "height = int(input('키를 입력하세요 (cm): '))\n",
        "bmi = weight / (height/100)**2\n",
        "print(\"================\")\n",
        "print('당신의 BMI는 %.2f 입니다.' % bmi)"
      ],
      "metadata": {
        "id": "aUf520F5pZU0"
      },
      "execution_count": null,
      "outputs": []
    },
    {
      "cell_type": "code",
      "source": [
        "# 나이를 이용해서 100살이 되는 년도를 계산해주는 프로그램\n",
        "import datetime\n",
        "print(\"100살 되는 년도 계산 프로그램\")\n",
        "print(\"================\")\n",
        "name = input('이름을 입력하세요: ')\n",
        "age = int(input('나이를 입력하세요: '))\n",
        "year = datetime.datetime.now().year + (100-age)\n",
        "print(\"================\")\n",
        "print('%s님이 100살이 되는 년도는 %d년 입니다.' % (name, year))"
      ],
      "metadata": {
        "id": "Bw33yr6DrAeH"
      },
      "execution_count": null,
      "outputs": []
    },
    {
      "cell_type": "markdown",
      "source": [
        "## **판다스**"
      ],
      "metadata": {
        "id": "VmMs8oyy6JRK"
      }
    },
    {
      "cell_type": "code",
      "source": [
        "# 씨리즈\n",
        "# 리스트로 평균내는 방법\n",
        "lst = [3,-5,7,4]\n",
        "(lst[0] + lst[1] + lst[2] + lst[3])/4"
      ],
      "metadata": {
        "id": "xRDuXkEv6MJ8"
      },
      "execution_count": null,
      "outputs": []
    },
    {
      "cell_type": "code",
      "source": [
        "# 시리즈로 평균내는 방법\n",
        "import pandas as pd\n",
        "s = pd.Series(lst)\n",
        "s[0], s[1], s[2], s[3]\n",
        "s.mean()"
      ],
      "metadata": {
        "id": "8AmolTDn60ZT"
      },
      "execution_count": null,
      "outputs": []
    },
    {
      "cell_type": "code",
      "source": [
        "# 인덱스 바꾸기\n",
        "s.index = ['a', 'b', 'c' ,'d']\n",
        "s['a'], s['b'], s['c'], s['d']"
      ],
      "metadata": {
        "id": "i3L53FVK7tCn"
      },
      "execution_count": null,
      "outputs": []
    },
    {
      "cell_type": "code",
      "source": [
        "# 데이터프레임\n",
        "country = ['Belgium', 'India', 'Brazil']\n",
        "capital = ['Brussels', 'New Delhi', 'Brasilia']\n",
        "population = [12567890, 56789087, 4567890]\n",
        "country_dict = {'Country': country,\n",
        "                'Capital': capital,\n",
        "                'Population': population}\n",
        "df = pd.DataFrame(country_dict)\n",
        "df['Population'].sum()\n",
        "df"
      ],
      "metadata": {
        "id": "78dhYsEY8_Y4"
      },
      "execution_count": null,
      "outputs": []
    },
    {
      "cell_type": "code",
      "source": [
        "# 인덱스 바꾸기\n",
        "df.set_index('Country', inplace=True)\n",
        "df"
      ],
      "metadata": {
        "id": "zFWQVUOO-UQL"
      },
      "execution_count": null,
      "outputs": []
    },
    {
      "cell_type": "code",
      "source": [
        "# 2D 리스트로 데이터프레임 만들기\n",
        "data = [['Jan',58,42,74,22,2.95],\n",
        "        ['Feb',61,45,78,26,3.02],\n",
        "        ['Mar',65,48,84,25,2.34],\n",
        "        ['Apr',67,50,92,28,1.02]]\n",
        "data[0]\n",
        "data[1][0]\n",
        "df = pd.DataFrame(data, columns=['month', 'avg_high', 'avg_low', 'record_high', 'record_low', 'avg_precipitation'])\n",
        "df"
      ],
      "metadata": {
        "id": "NTEgk6VvFVK5"
      },
      "execution_count": null,
      "outputs": []
    },
    {
      "cell_type": "code",
      "source": [
        "# 반복문 이용해서 이메일리스트 만들기\n",
        "name = ['kim', 'park', 'lee', 'choi', 'moon']\n",
        "email = []\n",
        "for n in name:\n",
        "    print(n + '@hotmail')\n",
        "    email.append(n + '@hotmail')\n",
        "email"
      ],
      "metadata": {
        "id": "rAcQQFhbPV8d"
      },
      "execution_count": null,
      "outputs": []
    },
    {
      "cell_type": "code",
      "source": [
        "# 연락처를 이용해서 데이터프레임 만들기 (id, name, email, phone)\n",
        "id = [1,2,3,4,5]\n",
        "name = ['kim', 'park', 'lee', 'choi', 'moon']\n",
        "email = [n+'@hotmail.com' for n in name]\n",
        "phone = ['111','222','333','444', '555']\n",
        "df = pd.DataFrame({'id': id,\n",
        "                   'name': name,\n",
        "                   'email': email,\n",
        "                   'phone': phone})\n",
        "\n",
        "# 엑셀파일로 저장하기\n",
        "df.to_excel('contact.xlsx')"
      ],
      "metadata": {
        "id": "w4q62G3wLKaW"
      },
      "execution_count": null,
      "outputs": []
    },
    {
      "cell_type": "code",
      "source": [
        "# 파일열기\n",
        "weather = pd.read_csv('/content/weather.txt')\n",
        "weather"
      ],
      "metadata": {
        "id": "bn1NG7oRVSil"
      },
      "execution_count": null,
      "outputs": []
    },
    {
      "cell_type": "code",
      "source": [
        "chipo = pd.read_excel('/content/chipotle.xlsx')\n",
        "chipo"
      ],
      "metadata": {
        "id": "imC-ooAUWRFI"
      },
      "execution_count": null,
      "outputs": []
    },
    {
      "cell_type": "code",
      "source": [
        "users = pd.read_csv('/content/occupation.txt', delimiter='|')\n",
        "users"
      ],
      "metadata": {
        "id": "5XGaLpcKW_71"
      },
      "execution_count": null,
      "outputs": []
    },
    {
      "cell_type": "code",
      "source": [
        "food = pd.read_csv('/content/en.openfoodfacts.org.products.tsv', delimiter='\\t', nrows=100)\n",
        "food"
      ],
      "metadata": {
        "id": "GwKLPfMrY0ef"
      },
      "execution_count": null,
      "outputs": []
    },
    {
      "cell_type": "markdown",
      "source": [
        "## **콜렉션 데이터타입**"
      ],
      "metadata": {
        "id": "wIVt8-56fkOj"
      }
    },
    {
      "cell_type": "code",
      "source": [
        "# 리스트접근\n",
        "thislist = ['apple', 'banana', 'cherry']\n",
        "print(thislist)\n",
        "print(thislist[1])\n",
        "print(thislist[-1])"
      ],
      "metadata": {
        "id": "RNiiOVpPfpo6"
      },
      "execution_count": null,
      "outputs": []
    },
    {
      "cell_type": "code",
      "source": [
        "# 리스트자르기\n",
        "thislist = ['apple', 'banana', 'cherry', 'orange', 'kiwi', 'melon', 'mango']\n",
        "print(thislist[2:5])\n",
        "print(thislist[:4])\n",
        "print(thislist[2:])\n",
        "print(thislist[-4:-1])"
      ],
      "metadata": {
        "id": "eTjn7tFIgIja"
      },
      "execution_count": null,
      "outputs": []
    },
    {
      "cell_type": "code",
      "source": [
        "# 리스트함수\n",
        "thislist = ['apple', 'banana', 'cherry']\n",
        "thislist[1] ='blackcurrant' #대체\n",
        "print(thislist)\n",
        "print(len(thislist)) #길이\n",
        "thislist.append('orange') #추가\n",
        "print(thislist)\n",
        "thislist.insert(1,'orange') #삽입\n",
        "print(thislist)"
      ],
      "metadata": {
        "id": "Pu9aJM2OgKcc"
      },
      "execution_count": null,
      "outputs": []
    },
    {
      "cell_type": "code",
      "source": [
        "thislist = ['apple', 'banana', 'cherry']\n",
        "thislist.remove('banana') #제거\n",
        "print(thislist)\n",
        "thislist.pop() #마지막 아이템 제거\n",
        "print(thislist)\n",
        "del thislist[0] #첫번째 아이템 제거\n",
        "print(thislist)\n",
        "del thislist #리스트 제거\n",
        "print(thislist)"
      ],
      "metadata": {
        "id": "hkbYgqqyhgkd"
      },
      "execution_count": null,
      "outputs": []
    },
    {
      "cell_type": "code",
      "source": [
        "thislist = ['apple', 'banana', 'cherry']\n",
        "thislist.clear() #내용삭제\n",
        "print(thislist)"
      ],
      "metadata": {
        "id": "4hvwBku1h6FB"
      },
      "execution_count": null,
      "outputs": []
    },
    {
      "cell_type": "code",
      "source": [
        "# 리스트복사\n",
        "thislist = ['apple', 'banana', 'cherry']\n",
        "mylist = thislist.copy()\n",
        "print(mylist)\n",
        "\n",
        "# 리스트변환\n",
        "mylist2 = list(thislist)\n",
        "print(mylist2)"
      ],
      "metadata": {
        "id": "PiQ8-zf8iBDj"
      },
      "execution_count": null,
      "outputs": []
    },
    {
      "cell_type": "code",
      "source": [
        "# 리스트결합\n",
        "list1 = ['a', 'b', 'c']\n",
        "list2 = [1, 2, 3]\n",
        "print(list1 + list2)\n",
        "list1.extend(list2)\n",
        "print(list1)"
      ],
      "metadata": {
        "id": "flRPB4s9icCG"
      },
      "execution_count": null,
      "outputs": []
    },
    {
      "cell_type": "code",
      "source": [
        "# 튜플 슬라이싱\n",
        "thistuple =  ('apple', 'banana', 'cherry', 'orange', 'kiwi', 'melon', 'mango')\n",
        "print(thistuple[2:5])\n",
        "print(thistuple[-4:-1])"
      ],
      "metadata": {
        "id": "YbhnXc9ci5rY"
      },
      "execution_count": null,
      "outputs": []
    },
    {
      "cell_type": "code",
      "source": [
        "thistuple =  ('apple', 'banana', 'cherry')\n",
        "print(len(thistuple)) #튜플길이\n",
        "del thistuple #튜플삭제\n",
        "print(thistuple)"
      ],
      "metadata": {
        "id": "HHIOfomQjNy_"
      },
      "execution_count": null,
      "outputs": []
    },
    {
      "cell_type": "code",
      "source": [
        "# 튜플결합\n",
        "tuple1 = ('a', 'b', 'c')\n",
        "tuple2 = (1, 2, 3)\n",
        "tuple1 + tuple2"
      ],
      "metadata": {
        "id": "yM8iZrepjduK"
      },
      "execution_count": null,
      "outputs": []
    },
    {
      "cell_type": "code",
      "source": [
        "# 딕셔너리\n",
        "thisdict = {\n",
        "    'brand': 'Ford',\n",
        "    'model': 'Mustang',\n",
        "    'year': 1964\n",
        "}\n",
        "print(thisdict)"
      ],
      "metadata": {
        "id": "IZQWsaYzjoYz"
      },
      "execution_count": null,
      "outputs": []
    },
    {
      "cell_type": "code",
      "source": [
        "# 값추출\n",
        "print(thisdict['model'])\n",
        "print(thisdict.get('model'))"
      ],
      "metadata": {
        "id": "hOfpGhHvj7Bx"
      },
      "execution_count": null,
      "outputs": []
    },
    {
      "cell_type": "code",
      "source": [
        "# 대체\n",
        "thisdict['year'] = 2018\n",
        "thisdict"
      ],
      "metadata": {
        "id": "z1rlPfsFkHTA"
      },
      "execution_count": null,
      "outputs": []
    },
    {
      "cell_type": "code",
      "source": [
        "# 길이\n",
        "len(thisdict)"
      ],
      "metadata": {
        "id": "o58Kr3IUkRvE"
      },
      "execution_count": null,
      "outputs": []
    },
    {
      "cell_type": "code",
      "source": [
        "# 새로운 값 추가\n",
        "thisdict['color'] = 'red'\n",
        "thisdict"
      ],
      "metadata": {
        "id": "G9sO9gphkUZq"
      },
      "execution_count": null,
      "outputs": []
    },
    {
      "cell_type": "code",
      "source": [
        "# 지정 키값 제거\n",
        "thisdict.pop('model')\n",
        "thisdict"
      ],
      "metadata": {
        "id": "xohtXo7UkZ3h"
      },
      "execution_count": null,
      "outputs": []
    },
    {
      "cell_type": "code",
      "source": [
        "# 지정 키값 제거\n",
        "del thisdict['year']\n",
        "thisdict"
      ],
      "metadata": {
        "id": "ogm6A3d5kk8W"
      },
      "execution_count": null,
      "outputs": []
    },
    {
      "cell_type": "code",
      "source": [
        "# 내용삭제\n",
        "thisdict.clear()\n",
        "thisdict"
      ],
      "metadata": {
        "id": "EMm2SzwAk0Wp"
      },
      "execution_count": null,
      "outputs": []
    },
    {
      "cell_type": "code",
      "source": [
        "thisdict = {\n",
        "    'brand': 'Ford',\n",
        "    'model': 'Mustang',\n",
        "    'year': 1964\n",
        "}\n",
        "print(thisdict.copy()) #복사\n",
        "print(dict(thisdict)) #딕셔너리 변환"
      ],
      "metadata": {
        "id": "Tyv44lAvk9lV"
      },
      "execution_count": null,
      "outputs": []
    }
  ]
}